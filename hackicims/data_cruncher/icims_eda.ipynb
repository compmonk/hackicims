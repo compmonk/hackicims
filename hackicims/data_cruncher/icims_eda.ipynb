{
 "cells": [
  {
   "cell_type": "code",
   "execution_count": null,
   "metadata": {
    "collapsed": true
   },
   "outputs": [],
   "source": [
    "from collections import Counter\n",
    "\n",
    "import pandas as pd\n",
    "\n",
    "applications = pd.read_json(\"../../data/applications.json\")\n",
    "people = pd.read_json(\"../../data/people.json\")\n",
    "jobs = pd.read_json(\"../../data/jobs.json\")\n",
    "\n",
    "master = people.merge(right=applications, how='inner', left_on='id', right_on='personId').merge(right=jobs, how='inner',\n",
    "                                                                                                left_on='jobId',\n",
    "                                                                                                right_on='id')\n",
    "cities = pd.DataFrame(columns=['cities'], data=map(lambda x: x['city'], map(dict, master['address'])))\n",
    "\n",
    "visual = master[['title', 'status']].join(cities)\n",
    "visual\n",
    "\n",
    "\n"
   ]
  },
  {
   "cell_type": "code",
   "execution_count": null,
   "metadata": {
    "collapsed": true
   },
   "outputs": [],
   "source": [
    "from matplotlib.pyplot import pie\n",
    "\n",
    "status = Counter(visual['status'])\n",
    "status = pd.DataFrame(data=status.values(), index=status.keys())\n",
    "status\n",
    "\n",
    "plot = pie(status[0])"
   ]
  }
 ],
 "metadata": {
  "kernelspec": {
   "display_name": "Python 2",
   "language": "python",
   "name": "python2"
  },
  "language_info": {
   "codemirror_mode": {
    "name": "ipython",
    "version": 2
   },
   "file_extension": ".py",
   "mimetype": "text/x-python",
   "name": "python",
   "nbconvert_exporter": "python",
   "pygments_lexer": "ipython2",
   "version": "2.7.6"
  }
 },
 "nbformat": 4,
 "nbformat_minor": 0
}
